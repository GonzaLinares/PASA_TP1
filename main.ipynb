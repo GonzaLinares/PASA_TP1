{
  "cells": [
    {
      "cell_type": "markdown",
      "metadata": {},
      "source": [
        "# $\\textit{Detección de ondas gravitatorias}$\n",
        "$\\textit{Estimación Espectral No Paramétrica}$"
      ]
    },
    {
      "cell_type": "code",
      "execution_count": null,
      "metadata": {},
      "outputs": [],
      "source": [
        "%matplotlib widget\n",
        "import h5py\n",
        "import pandas as pd\n",
        "import numpy as np\n",
        "import matplotlib.pyplot as plt\n",
        "import seaborn as sns\n",
        "import IPython.display as ipd"
      ]
    },
    {
      "cell_type": "code",
      "execution_count": null,
      "metadata": {},
      "outputs": [],
      "source": [
        "# Creditos: https://stackoverflow.com/questions/31410043/hiding-lines-after-showing-a-pyplot-figure, by Basj\n",
        "\n",
        "class InteractiveLegend(object):\n",
        "    def __init__(self, legend=None):\n",
        "        if legend == None:\n",
        "            legend = plt.gca().get_legend()\n",
        "        self.legend = legend\n",
        "        self.fig = legend.axes.figure\n",
        "        self.lookup_artist, self.lookup_handle = self._build_lookups(legend)\n",
        "        self._setup_connections()\n",
        "        self.update()\n",
        "    def _setup_connections(self):\n",
        "        for artist in self.legend.texts + self.legend.legendHandles:\n",
        "            artist.set_picker(10) # 10 points tolerance\n",
        "        self.fig.canvas.mpl_connect('pick_event', self.on_pick)\n",
        "        self.fig.canvas.mpl_connect('button_press_event', self.on_click)\n",
        "    def _build_lookups(self, legend):\n",
        "        labels = [t.get_text() for t in legend.texts]\n",
        "        handles = legend.legendHandles\n",
        "        label2handle = dict(zip(labels, handles))\n",
        "        handle2text = dict(zip(handles, legend.texts))\n",
        "        lookup_artist = {}\n",
        "        lookup_handle = {}\n",
        "        for artist in legend.axes.get_children():\n",
        "            if artist.get_label() in labels:\n",
        "                handle = label2handle[artist.get_label()]\n",
        "                lookup_handle[artist] = handle\n",
        "                lookup_artist[handle] = artist\n",
        "                lookup_artist[handle2text[handle]] = artist\n",
        "        lookup_handle.update(zip(handles, handles))\n",
        "        lookup_handle.update(zip(legend.texts, handles))\n",
        "        return lookup_artist, lookup_handle\n",
        "    def on_pick(self, event):\n",
        "        handle = event.artist\n",
        "        if handle in self.lookup_artist:\n",
        "            artist = self.lookup_artist[handle]\n",
        "            artist.set_visible(not artist.get_visible())\n",
        "            self.update()\n",
        "    def on_click(self, event):\n",
        "        if event.button == 3:\n",
        "            visible = False\n",
        "        elif event.button == 2:\n",
        "            visible = True\n",
        "        else:\n",
        "            return\n",
        "        for artist in self.lookup_artist.values():\n",
        "            artist.set_visible(visible)\n",
        "        self.update()\n",
        "    def update(self):\n",
        "        for artist in self.lookup_artist.values():\n",
        "            handle = self.lookup_handle[artist]\n",
        "            if artist.get_visible():\n",
        "                handle.set_visible(True)\n",
        "            else:\n",
        "                handle.set_visible(False)\n",
        "        self.fig.canvas.draw()"
      ]
    },
    {
      "cell_type": "code",
      "execution_count": null,
      "metadata": {},
      "outputs": [],
      "source": [
        "sns.set_theme()"
      ]
    },
    {
      "cell_type": "markdown",
      "metadata": {},
      "source": [
        "En un principio utilizamos el dataset de 4096s para asegurar buenos resultado y descartar que los errores que fueramos cometiendo sean causados por la baja cantidad de datos. Luego, probamos con el de 32s y genera resultados muy similares, por lo que decidimos quedarnos con el de 32s."
      ]
    },
    {
      "cell_type": "code",
      "execution_count": null,
      "metadata": {},
      "outputs": [],
      "source": [
        "# these 4096 second files are useful for computing more accurate psds\n",
        "#largeFilenamePart = {'GW150914': 'GWOSC_4KHZ_R1-1126257415-4096.hdf5'}\n",
        "largeFilenamePart = {'GW150914': 'GWOSC_4KHZ_R1-1126259447-32.hdf5'}\n",
        "fn_H1 = './Data/H-H1_' + largeFilenamePart['GW150914']\n",
        "fn_L1 = './Data/L-L1_' + largeFilenamePart['GW150914']\n",
        "\n",
        "# this is the approximate event time which is used in the papers\n",
        "time_center = 1126259462\n",
        "\n",
        "# get sample rate from the H1 data file\n",
        "with h5py.File(fn_H1, 'r') as hdf_file:\n",
        "    dt = hdf_file['strain/Strain'].attrs['Xspacing']\n",
        "fs = int(1.0/dt)\n",
        "print(\"Using sample rate of {0} Hz found in file: {1}\".format(fs, fn_H1))"
      ]
    },
    {
      "cell_type": "code",
      "execution_count": null,
      "metadata": {},
      "outputs": [],
      "source": [
        "import readligo as rl\n",
        "strain_H1, time_H1, chan_dict_H1 = rl.loaddata(fn_H1, 'H1')\n",
        "strain_L1, time_L1, chan_dict_L1 = rl.loaddata(fn_L1, 'L1')"
      ]
    },
    {
      "cell_type": "code",
      "execution_count": null,
      "metadata": {},
      "outputs": [],
      "source": [
        "len(strain_H1)"
      ]
    },
    {
      "cell_type": "code",
      "execution_count": null,
      "metadata": {},
      "outputs": [],
      "source": [
        "indxt_around_H1 = np.where((time_H1 >= time_center - 2) & (time_H1 < time_center + 2))\n",
        "indxt_around_L1 = np.where((time_L1 >= time_center - 2) & (time_L1 < time_center + 2))"
      ]
    },
    {
      "cell_type": "markdown",
      "metadata": {},
      "source": [
        "# $\\textit{Agarramos los datos sin el evento en ventanas}$"
      ]
    },
    {
      "cell_type": "code",
      "execution_count": null,
      "metadata": {},
      "outputs": [],
      "source": [
        "\n",
        "#Getting a neighbourhood of the event\n",
        "strain_H1_after_noise = strain_H1[indxt_around_H1[0][-1]+1:]\n",
        "strain_L1_after_noise = strain_L1[indxt_around_L1[0][-1]+1:]\n",
        "strain_H1_before_noise = strain_H1[:indxt_around_H1[0][0]]\n",
        "strain_L1_before_noise = strain_L1[:indxt_around_L1[0][0]]\n",
        "\n",
        "getChuncks = lambda lst, K: [lst[i:i + K] for i in range(0, len(lst), K)][:-1]\n"
      ]
    },
    {
      "cell_type": "code",
      "execution_count": null,
      "metadata": {},
      "outputs": [],
      "source": [
        "len(getChuncks(strain_H1_after_noise, 100))"
      ]
    },
    {
      "cell_type": "markdown",
      "metadata": {},
      "source": [
        "# $\\textit{Estacionaridad}$\n",
        "\n",
        "fuentes: https://arch.readthedocs.io/en/latest/unitroot/unitroot_examples.html"
      ]
    },
    {
      "cell_type": "code",
      "execution_count": null,
      "metadata": {},
      "outputs": [],
      "source": [
        "len(strain_L1_before_noise)"
      ]
    },
    {
      "cell_type": "code",
      "execution_count": null,
      "metadata": {},
      "outputs": [],
      "source": [
        "from arch.unitroot import ADF\n",
        "\n",
        "''' \n",
        "Para el test, se tiene en cuenta que las hipotesis son:\n",
        "\n",
        "H0: La serie contiene raiz unitaria.\n",
        "H1: La serie es estacionaria.\n",
        "\n",
        "Si el p-valor esta por encima del critico, la hipotesis nula no puede ser rechazada, indicando que \n",
        "la serie no es estacionaria.\n",
        "'''\n",
        "\n",
        "norm1 = strain_L1_before_noise * 1e18\n",
        "norm2 = strain_H1_before_noise * 1e18\n",
        "max_lags_test=len(strain_L1_before_noise)//50\n",
        "\n",
        "adf = ADF(norm1, max_lags=max_lags_test)\n",
        "print(adf.summary().as_text())\n",
        "print(\"Dado que P-value = 0, podemos concluir que la señal L1 es estacionaria.\")\n",
        "print('\\n//////////////////////////////////////\\n')\n",
        "\n",
        "adf = ADF(norm2, max_lags=max_lags_test)\n",
        "print(adf.summary().as_text())\n",
        "print(\"Dado que P-value = 0, podemos concluir que la señal H1 es estacionaria.\")"
      ]
    },
    {
      "cell_type": "code",
      "execution_count": null,
      "metadata": {},
      "outputs": [],
      "source": [
        "from arch.unitroot import PhillipsPerron\n",
        "\n",
        "pp = PhillipsPerron(norm1)\n",
        "print(pp.summary().as_text())\n",
        "print(\"Dado que P-value = 0, podemos concluir que la señal L1 es estacionaria.\")\n",
        "print('\\n//////////////////////////////////////\\n')\n",
        "\n",
        "pp = PhillipsPerron(norm2)\n",
        "print(pp.summary().as_text())\n",
        "print(\"Dado que P-value = 0, podemos concluir que la señal H1 es estacionaria.\")"
      ]
    },
    {
      "cell_type": "markdown",
      "metadata": {},
      "source": [
        "A traves de estos test, se concluyo la estacionaridad de los datos."
      ]
    },
    {
      "cell_type": "markdown",
      "metadata": {},
      "source": [
        "# $\\textit{EDA}$"
      ]
    },
    {
      "cell_type": "code",
      "execution_count": null,
      "metadata": {},
      "outputs": [],
      "source": [
        "plt.figure()\n",
        "plt.plot(time_H1, strain_H1, linewidth=1, label='H1')\n",
        "plt.plot(time_L1, strain_L1, linewidth=1, label='L1')\n",
        "plt.legend()"
      ]
    },
    {
      "cell_type": "code",
      "execution_count": null,
      "metadata": {},
      "outputs": [],
      "source": [
        "np.mean(strain_L1)"
      ]
    },
    {
      "cell_type": "markdown",
      "metadata": {},
      "source": [
        "El dataset L1 se ve que tiene una media distinta de 0 con un valor considerablemente alto. Dado que el proceso se comprobo estacionario, es posible restarle esa media."
      ]
    },
    {
      "cell_type": "code",
      "execution_count": null,
      "metadata": {},
      "outputs": [],
      "source": [
        "strain_L1 = strain_L1-np.mean(strain_L1)"
      ]
    },
    {
      "cell_type": "code",
      "execution_count": null,
      "metadata": {},
      "outputs": [],
      "source": [
        "indxt_around_L1"
      ]
    },
    {
      "cell_type": "code",
      "execution_count": null,
      "metadata": {},
      "outputs": [],
      "source": [
        "plt.figure()\n",
        "plt.plot(time_H1[indxt_around_H1], strain_H1[indxt_around_H1], linewidth=1)\n",
        "plt.plot(time_L1[indxt_around_L1], strain_L1[indxt_around_L1], linewidth=1)"
      ]
    },
    {
      "cell_type": "markdown",
      "metadata": {},
      "source": [
        "# $\\textit{Prueba de ventanas}$"
      ]
    },
    {
      "cell_type": "code",
      "execution_count": null,
      "metadata": {},
      "outputs": [],
      "source": [
        "from numpy.fft import fft, rfft\n",
        "from numpy.fft import fftshift, fftfreq, rfftfreq\n",
        "from scipy import signal as sg\n",
        "from scipy.interpolate import interp1d"
      ]
    },
    {
      "cell_type": "code",
      "execution_count": null,
      "metadata": {},
      "outputs": [],
      "source": [
        "N = 8192\n",
        "n = np.linspace(0,N-1,N)\n",
        "\n",
        "SquareW = sg.windows.boxcar(N) #Square window\n",
        "TriangW = sg.windows.triang(N) #Triangular window\n",
        "BlkHarrW = sg.windows.blackmanharris(N)\n",
        "BlkW = sg.windows.blackman(N)\n",
        "\n",
        "ParzenW = sg.windows.parzen(N)\n",
        "kaiserW = sg.windows.kaiser(N, 10)\n",
        "tukeyW = sg.windows.tukey(N, 0.9)   # \n",
        "\n",
        "currWindow = BlkW #Choose window"
      ]
    },
    {
      "cell_type": "code",
      "execution_count": null,
      "metadata": {},
      "outputs": [],
      "source": [
        "fig, axs = plt.subplots(1, 2)\n",
        "fig.tight_layout(pad=2)\n",
        "fig.set_figwidth(8)\n",
        "\n",
        "\n",
        "A = rfft(currWindow, N*10) \n",
        "box = rfft(SquareW, N*10)\n",
        "freq = rfftfreq(N*10, 1/fs)\n",
        "response = 10*np.log10((np.abs(A)+1e-1) / abs(A).max())\n",
        "responsebox = 10*np.log10((np.abs(box)+1e-18) / abs(box).max())\n",
        "\n",
        "\n",
        "axs[0].set_title(\"Window\")\n",
        "axs[0].plot(currWindow)\n",
        "\n",
        "axs[1].set_title(\"Frec. response\")\n",
        "axs[1].plot(freq, responsebox, label='Box')\n",
        "axs[1].plot(freq, response, label='blackman')\n",
        "axs[1].set_xlabel(\"frecuency\")\n",
        "axs[1].set_ylabel(\"dB\")\n",
        "axs[1].set_xscale('log')\n",
        "axs[1].set_ylim(-80, 1)\n",
        "plt.legend()"
      ]
    },
    {
      "cell_type": "markdown",
      "metadata": {},
      "source": [
        "# $\\textit{Calculamos la PSD}$"
      ]
    },
    {
      "cell_type": "code",
      "execution_count": null,
      "metadata": {},
      "outputs": [],
      "source": [
        "def PSD(seq, padding_mul):\n",
        "    rv = sg.correlate(seq, seq)/len(seq)\n",
        "    rx = rfft(rv, int(len(rv)*padding_mul))\n",
        "    Rx = np.abs(rx)\n",
        "    freq = rfftfreq(int(len(rv)*padding_mul), 1/fs)\n",
        "    return freq, Rx"
      ]
    },
    {
      "cell_type": "code",
      "execution_count": null,
      "metadata": {},
      "outputs": [],
      "source": [
        "def PSD(seq, padding_mult):\n",
        "    SeqF = rfft(seq, int(len(seq)*padding_mult))\n",
        "    psd = np.abs(SeqF)**2 / (len(seq))\n",
        "    freq = rfftfreq(int(len(seq)*padding_mult), 1/fs)\n",
        "    return freq, psd"
      ]
    },
    {
      "cell_type": "code",
      "execution_count": null,
      "metadata": {},
      "outputs": [],
      "source": [
        "plt.figure()\n",
        "rv = sg.correlate(strain_H1_after_noise, strain_H1_after_noise)/len(strain_H1_after_noise)\n",
        "lags = sg.correlation_lags(len(strain_H1_after_noise), len(strain_H1_after_noise), mode =\"full\")\n",
        "plt.plot(lags, rv)\n"
      ]
    },
    {
      "cell_type": "markdown",
      "metadata": {},
      "source": [
        "Esta autocorrelacion se realiza a traves del camino de la fft utilizando todas las muestras presentes luego del evento del dataset de 4096 segundos. Se puede ver que la correlacion es mas alta dentro de un intervalo de aproximadamente 30 seg y luego se achica y parece permanecer con una amplitud mas pequeña en comparacion con el centro. Esto no necesariamente indica que las muestras sean poco correlacionadas en ventanas de 30 seg ya que no se puede asegurar la estacionaridad de la señal en el intervalo de tiempo utilizado. En caso de que fuera estacionario, este resultado es evidencia de que para intervalos de mas de 30 seg la correlacion es bastante menor."
      ]
    },
    {
      "cell_type": "markdown",
      "metadata": {},
      "source": [
        "A) Segun el grafico anterior, se presume que el ruido tiene correlacion en un intervalo de alrededor de 30 seg, por lo que a priori nos indica que deberiamos utilizar una ventana de datos mayor a 30 para evitar la perdida de informacion. Creemos que deberiamos usar un ventana de al menos 4 veces 30, es decir 120 segundos. Esto ultimo se vuelve impracticable debido a los recursos de computo necesarios. Por esto, se utilizo una ventana de 32 segundos."
      ]
    },
    {
      "cell_type": "code",
      "execution_count": null,
      "metadata": {},
      "outputs": [],
      "source": [
        "psd_freqH1, psdH1 = PSD(strain_H1_after_noise[:10*fs], 1)\n",
        "psd_freqL1, psdL1 = PSD(strain_L1_after_noise[:10*fs], 1)\n",
        "\n",
        "plt.figure()\n",
        "\n",
        "plt.title(\"PSD\")\n",
        "plt.plot(psd_freqH1, psdH1, label='PSD H1')\n",
        "plt.plot(psd_freqL1, psdL1, label='PSD L1')\n",
        "\n",
        "plt.yscale('log')\n",
        "plt.xlabel('Freq [Hz]')\n",
        "plt.xlabel('PSD')\n",
        "plt.legend(loc='upper right')\n",
        "leg1 = InteractiveLegend()\n"
      ]
    },
    {
      "cell_type": "markdown",
      "metadata": {},
      "source": [
        "# $\\textit{Periodogram Averaging}$"
      ]
    },
    {
      "cell_type": "markdown",
      "metadata": {},
      "source": [
        "C) Segun la teoria vista en clase, utilizamos N como la maxima cantidad de datos disponibles (quitando una seccion de 4 segundos donde se encuentra el evento). Este seccionado de los datos genera dos arreglos cuyos periodogramas se calculan por separado para luego ser promediados. Esto se basa en al suposicion de estacionaridad del proceso."
      ]
    },
    {
      "cell_type": "code",
      "execution_count": null,
      "metadata": {},
      "outputs": [],
      "source": [
        "def periodogram_averaging(data, L, padding_multiplier, window):\n",
        "    wind = window(L)\n",
        "    corrFact = np.sqrt(L/np.square(wind).sum()) #Normalizamos la ventana para que sea asintoticamente libre de bias\n",
        "    wind =  wind*corrFact\n",
        "    dataChunks = getChuncks(data, L)*wind\n",
        "    fftwindowSize = L*padding_multiplier\n",
        "    freqs = rfftfreq(fftwindowSize, 1/fs)\n",
        "    periodogram = np.zeros(len(freqs))\n",
        "    for i in range(len(dataChunks)):\n",
        "        # Se van agregando al promediado los periodogramas de cada bloque calculado a partir de la FFT del señal en el tiempo\n",
        "        periodogram = periodogram + np.abs(rfft(dataChunks[i], fftwindowSize))**2/(L*len(dataChunks))   \n",
        "\n",
        "    return freqs, periodogram, len(dataChunks)\n",
        "\n",
        "\n",
        "windows = ['boxcar', 'triang', 'parzen', 'bohman', 'blackman', 'nuttall',\n",
        "           'blackmanharris', 'flattop', 'bartlett', 'barthann',\n",
        "           'hamming', ('kaiser', 10), ('tukey', 0.25)]"
      ]
    },
    {
      "cell_type": "markdown",
      "metadata": {},
      "source": [
        "## H1"
      ]
    },
    {
      "cell_type": "markdown",
      "metadata": {},
      "source": [
        "Con este testeo de ventanas y cantidades de datos, se determino empiricamente que un buen valor para L es 4092 en gran parte de los casos. Este valor de K permite utilizar 26 periodogramas en el promedio, permitiendo reducir la varianza y dando valores similares al resultado de L=8096 pero con un ruido notablemente menor. Las ventanas cuadrada y de Hamming resultaron con un rendimiento pobre no pudiendo generar un periodograma aceptable, lo que probablemente se deba a su alto leakege espectral. En particular las ventanas de Parzen, blackmann y barthan arrojaron los resultados que creemos mejores para este caso. En aprticular se utilizo la ventana de blackmann, que se noto con una mejor definicion de los picos espectrales."
      ]
    },
    {
      "cell_type": "code",
      "execution_count": null,
      "metadata": {},
      "outputs": [],
      "source": [
        "\n",
        "plt.figure(figsize=(15, 50))\n",
        "legsH1 = [0]*len(windows)\n",
        "\n",
        "for i, win in enumerate(windows):\n",
        "    plt.subplot(len(windows) // 2 + len(windows) % 2, 2, i+1)\n",
        "    plt.plot(psd_freqH1, psdH1, label=\"No window\")\n",
        "    plt.title(f'Ventana: {win}')\n",
        "    for size in [512, 2048, 4096, 8192, 16384]:\n",
        "        window = lambda x: sg.windows.get_window(win, x)\n",
        "        freqs, after_preiodogram, Kaf = periodogram_averaging(strain_H1_after_noise, size, 4, window)\n",
        "        freqs, bf_preiodogram, Kbf = periodogram_averaging(strain_H1_before_noise, size, 4, window)\n",
        "        mean_periodogram = (after_preiodogram + bf_preiodogram)/2\n",
        "        plt.plot(freqs, mean_periodogram, label=f\"L = {size}, K = {Kaf + Kbf}\")\n",
        "    plt.xscale('log')\n",
        "    plt.yscale('log')\n",
        "    plt.xlabel('Freq [Hz]')\n",
        "    plt.ylabel('PSD')\n",
        "    plt.xlim(10, fs/2)\n",
        "    plt.legend(loc='upper right')\n",
        "    legsH1[i] = InteractiveLegend()\n",
        "\n"
      ]
    },
    {
      "cell_type": "code",
      "execution_count": null,
      "metadata": {},
      "outputs": [],
      "source": [
        "size =4092\n",
        "window = lambda x: sg.windows.get_window('blackman', x)\n",
        "freqs, after_preiodogram, Kaf = periodogram_averaging(strain_H1_after_noise, size, 4, window)\n",
        "paH1freqs, bf_preiodogram, Kbf = periodogram_averaging(strain_H1_before_noise, size, 4, window)\n",
        "Rxpa_estH1 = (after_preiodogram + bf_preiodogram)/2"
      ]
    },
    {
      "cell_type": "markdown",
      "metadata": {},
      "source": [
        "## L1"
      ]
    },
    {
      "cell_type": "markdown",
      "metadata": {},
      "source": [
        "De forma similar al caso anterior se concluyo que los mismos parametros funcionan bastante bien. L=4092, ventana de Blackman, y la utilizacion de todos los datos disponibles, salvo la seccion donde se encuentra la señal."
      ]
    },
    {
      "cell_type": "code",
      "execution_count": null,
      "metadata": {},
      "outputs": [],
      "source": [
        "plt.figure(figsize=(15, 50))\n",
        "legsL1 = [0]*len(windows)\n",
        "\n",
        "for i, win in enumerate(windows):\n",
        "    plt.subplot(len(windows) // 2 + len(windows) % 2, 2, i+1)\n",
        "    plt.plot(psd_freqL1, psdL1, label=\"No window\")\n",
        "    plt.title(f'Ventana: {win}')\n",
        "    for size in [512, 2048, 4096, 8192, 16384]:\n",
        "        window = lambda x: sg.windows.get_window(win, x)\n",
        "        freqs, after_preiodogram, Kaf = periodogram_averaging(strain_L1_after_noise, size, 4, window)\n",
        "        freqs, bf_preiodogram, Kbf = periodogram_averaging(strain_L1_before_noise, size, 4, window)\n",
        "        mean_periodogram = (after_preiodogram + bf_preiodogram)/2\n",
        "        plt.plot(freqs, mean_periodogram, label=f\"L = {size}, K = {Kaf + Kbf}\")\n",
        "    plt.xscale('log')\n",
        "    plt.yscale('log')\n",
        "    plt.xlabel('Freq [Hz]')\n",
        "    plt.ylabel('PSD')\n",
        "    plt.xlim(10, fs/2)\n",
        "    plt.legend()\n",
        "    legsL1[i] = InteractiveLegend()"
      ]
    },
    {
      "cell_type": "code",
      "execution_count": null,
      "metadata": {},
      "outputs": [],
      "source": [
        "size = 4092\n",
        "window = lambda x: sg.windows.get_window('blackman', x)\n",
        "freqs, after_preiodogram, Kaf = periodogram_averaging(strain_L1_after_noise, size, 4, window)\n",
        "paL1freqs, bf_preiodogram, Kbf = periodogram_averaging(strain_L1_before_noise, size, 4, window)\n",
        "Rxpa_estL1 = (after_preiodogram + bf_preiodogram)/2"
      ]
    },
    {
      "cell_type": "markdown",
      "metadata": {},
      "source": [
        "# $\\textit{Periodogram Smoothing}$"
      ]
    },
    {
      "cell_type": "markdown",
      "metadata": {},
      "source": [
        "## L1"
      ]
    },
    {
      "cell_type": "markdown",
      "metadata": {},
      "source": [
        "Para este caso de Smoothing, a traves de iteracion, se decidio utilizar toda la porcion de datos presente luego del evento, ya que es la que cuenta con mas datos continuos, relativo a la porcion anterior al evento. Este valor de N alto, permite reducir el bias de la estimacion de la autocorrelacion, y mejorar la estimacion del periodograma. Luego, a traves de iteracion, se llego al valor optimo de la cantidad de lags a tomar siendo esto N/5. Este valor demostro mantener una buena resolucion espectral, mientras que da una buena estimacion del periodograma. \n",
        "\n",
        "La ventana utilizada para la autocorrelacion fue la de parzen ya que claramente da mejores resultados que la de barlett para este caso particular."
      ]
    },
    {
      "cell_type": "code",
      "execution_count": null,
      "metadata": {},
      "outputs": [],
      "source": [
        "data_lenght = len(strain_L1_after_noise)\n",
        "data = strain_L1_after_noise[:data_lenght]\n",
        "\n",
        "\n",
        "lags2get = data_lenght//5\n",
        "window_size = lags2get*2+1\n",
        "pading = 2\n",
        "\n",
        "rx_full = sg.correlate(data, data)/data_lenght\n",
        "lags = sg.correlation_lags(data_lenght, data_lenght)\n",
        "\n",
        "rx = rx_full[data_lenght-1-lags2get: data_lenght-1+lags2get+1]\n",
        "window1 = sg.windows.bartlett(window_size)\n",
        "window2 = sg.windows.parzen(window_size)\n",
        "window1 = window1/np.max(window1)\n",
        "window2 = window2/np.max(window2)\n",
        "\n",
        "vn1 = rx*window1\n",
        "vn2 = rx*window2\n",
        "plt.figure()\n",
        "plt.plot(lags, rx_full)\n",
        "plt.plot(lags[data_lenght-1-lags2get: data_lenght-1+lags2get+1], vn1)\n",
        "plt.xlabel('Lags')\n",
        "plt.ylabel('rx')\n",
        "\n",
        "Rxps_estL1barlet = np.abs(rfft(vn1, window_size*pading))\n",
        "Rxps_estL1parzen = np.abs(rfft(vn2, window_size*pading))\n",
        "psL1freqs = rfftfreq(window_size*pading, 1/fs)\n",
        "\n",
        "plt.figure()\n",
        "\n",
        "plt.plot(psd_freqL1, psdL1, label=\"No window\")\n",
        "plt.plot(psL1freqs, Rxps_estL1barlet, label=\"Barlett\")\n",
        "plt.plot(psL1freqs, Rxps_estL1parzen, label=\"Parzen\")\n",
        "plt.xscale('log')\n",
        "plt.yscale('log')\n",
        "plt.xlabel('Freq [Hz]')\n",
        "plt.ylabel('PSD')\n",
        "plt.xlim(10, fs/2)\n",
        "plt.legend()\n",
        "\n",
        "\n"
      ]
    },
    {
      "cell_type": "markdown",
      "metadata": {},
      "source": [
        "## H1"
      ]
    },
    {
      "cell_type": "markdown",
      "metadata": {},
      "source": [
        "De la misma manera que en el caso anterior, los mismos parametros fueron los que mejor funcionaron."
      ]
    },
    {
      "cell_type": "code",
      "execution_count": null,
      "metadata": {},
      "outputs": [],
      "source": [
        "data_lenght = len(strain_H1_before_noise)\n",
        "data = strain_H1_before_noise[:data_lenght]\n",
        "\n",
        "\n",
        "lags2get = data_lenght//5\n",
        "window_size = lags2get*2+1\n",
        "pading = 2\n",
        "\n",
        "rx_full = sg.correlate(data, data)/data_lenght\n",
        "lags = sg.correlation_lags(data_lenght, data_lenght)\n",
        "\n",
        "rx = rx_full[data_lenght-1-lags2get: data_lenght-1+lags2get+1]\n",
        "window1 = sg.windows.bartlett(window_size)\n",
        "window2 = sg.windows.parzen(window_size)\n",
        "window1 = window1/np.max(window1)\n",
        "window2 = window2/np.max(window2)\n",
        "\n",
        "vn1 = rx*window1\n",
        "vn2 = rx*window2\n",
        "plt.figure()\n",
        "plt.plot(lags, rx_full)\n",
        "plt.plot(lags[data_lenght-1-lags2get: data_lenght-1+lags2get+1], vn2)\n",
        "plt.xlabel('Lags')\n",
        "plt.ylabel('rx')\n",
        "\n",
        "Rxps_estH1barlet = np.abs(rfft(vn1, window_size*pading))\n",
        "Rxps_estH1parzen = np.abs(rfft(vn2, window_size*pading))\n",
        "psH1freqs = rfftfreq(window_size*pading, 1/fs)\n",
        "\n",
        "plt.figure()\n",
        "\n",
        "plt.plot(psd_freqH1, psdH1, label=\"No window\")\n",
        "plt.plot(psH1freqs, Rxps_estH1barlet, label=\"Barlett\")\n",
        "plt.plot(psH1freqs, Rxps_estH1parzen, label=\"Parzen\")\n",
        "plt.xscale('log')\n",
        "plt.yscale('log')\n",
        "plt.xlabel('Freq [Hz]')\n",
        "plt.ylabel('PSD')\n",
        "plt.xlim(10, fs/2)\n",
        "plt.legend()\n",
        "plt.show()"
      ]
    },
    {
      "cell_type": "markdown",
      "metadata": {},
      "source": [
        "# Comparativa"
      ]
    },
    {
      "cell_type": "markdown",
      "metadata": {},
      "source": [
        "## L1"
      ]
    },
    {
      "cell_type": "markdown",
      "metadata": {},
      "source": [
        "En estos graficos comparativos, se puede ver que el averaging funciona mejor que el Smoothing."
      ]
    },
    {
      "cell_type": "code",
      "execution_count": null,
      "metadata": {},
      "outputs": [],
      "source": [
        "plt.figure()\n",
        "\n",
        "plt.plot(psd_freqL1, psdL1, label='Periodogram')\n",
        "plt.plot(psL1freqs, Rxps_estL1parzen, label='Periodogram Smoothing')\n",
        "plt.plot(paL1freqs, Rxpa_estL1, label='Periodogram Averaging')\n",
        "plt.xscale('log')\n",
        "plt.yscale('log')\n",
        "plt.xlabel('Freq [Hz]')\n",
        "plt.ylabel('PSD')\n",
        "plt.xlim(10, fs/2)\n",
        "plt.legend()"
      ]
    },
    {
      "cell_type": "markdown",
      "metadata": {},
      "source": [
        "## H1"
      ]
    },
    {
      "cell_type": "markdown",
      "metadata": {},
      "source": [
        "En estos graficos comparativos, se puede ver que el averaging funciona mejor que el Smoothing."
      ]
    },
    {
      "cell_type": "code",
      "execution_count": null,
      "metadata": {},
      "outputs": [],
      "source": [
        "plt.figure()\n",
        "\n",
        "plt.plot(psd_freqH1, psdH1, label='Periodogram')\n",
        "plt.plot(psH1freqs, Rxps_estH1parzen, label='Periodogram Smoothing')\n",
        "plt.plot(paH1freqs, Rxpa_estH1, label='Periodogram Averaging')\n",
        "plt.xscale('log')\n",
        "plt.yscale('log')\n",
        "plt.xlabel('Freq [Hz]')\n",
        "plt.ylabel('PSD')\n",
        "plt.xlim(10, fs/2)\n",
        "plt.legend()"
      ]
    },
    {
      "cell_type": "markdown",
      "metadata": {},
      "source": [
        "## H1 vs L1"
      ]
    },
    {
      "cell_type": "code",
      "execution_count": 59,
      "metadata": {},
      "outputs": [
        {
          "name": "stderr",
          "output_type": "stream",
          "text": [
            "/tmp/ipykernel_18336/3581216638.py:19: MatplotlibDeprecationWarning: The legendHandles attribute was deprecated in Matplotlib 3.7 and will be removed two minor releases later. Use legend_handles instead.\n",
            "  handles = legend.legendHandles\n",
            "/tmp/ipykernel_18336/3581216638.py:13: MatplotlibDeprecationWarning: The legendHandles attribute was deprecated in Matplotlib 3.7 and will be removed two minor releases later. Use legend_handles instead.\n",
            "  for artist in self.legend.texts + self.legend.legendHandles:\n"
          ]
        },
        {
          "data": {
            "application/vnd.jupyter.widget-view+json": {
              "model_id": "8532386aa6f241e2b3cb1e2564d5482d",
              "version_major": 2,
              "version_minor": 0
            },
            "image/png": "[encoded data removed]",
            "text/html": [
              "\n",
              "            <div style=\"display: inline-block;\">\n",
              "                <div class=\"jupyter-widgets widget-label\" style=\"text-align: center;\">\n",
              "                    Figure\n",
              "                </div>\n",
              "                <img src='data:image/png;base64,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' width=640.0/>\n",
              "            </div>\n",
              "        "
            ],
            "text/plain": [
              "Canvas(toolbar=Toolbar(toolitems=[('Home', 'Reset original view', 'home', 'home'), ('Back', 'Back to previous …"
            ]
          },
          "metadata": {},
          "output_type": "display_data"
        }
      ],
      "source": [
        "plt.figure()\n",
        "\n",
        "plt.plot(paH1freqs, Rxpa_estH1, label='H1')\n",
        "plt.plot(paL1freqs, Rxpa_estL1, label='L1')\n",
        "plt.xscale('log')\n",
        "plt.yscale('log')\n",
        "plt.xlabel('Freq [Hz]')\n",
        "plt.ylabel('PSD')\n",
        "plt.xlim(10, fs/2)\n",
        "plt.legend()\n",
        "leg = InteractiveLegend()"
      ]
    },
    {
      "cell_type": "markdown",
      "metadata": {},
      "source": [
        "En primer lugar, si se comparan estos espectros con la imagen descriptiva presente en la consigna de este trabajo, se puede ver una coincidencia. El espectro comienza de un valor alto, disminuye rapidamente y luego vuelve a crecer hasta que en approx. 2KHz se encuentra el filtro Antialias. Es notable el hecho de que la vanda de los 100Hz a 300Hz donde se encuentra la señal del pulso gravitatorio se encuentra en un valle, tal como en la imagen.\n",
        "\n",
        "Lo notable son los picos espectrales presentes, algunos de ellos son el fundamental y los armonicos de la tension de linea estadounidense de 60Hz. Otros picos se encuentran en frecuencias menores de approx. 35Hz. El pico mas notable se encuentra en approx. 514Hz y los siguientes son sus armonicos. \n",
        "\n",
        "No podemos explicar de donde vienen todos los picos espectrales."
      ]
    },
    {
      "cell_type": "markdown",
      "metadata": {},
      "source": [
        "# Filtrado"
      ]
    },
    {
      "cell_type": "code",
      "execution_count": null,
      "metadata": {},
      "outputs": [],
      "source": [
        "# Creditos: https://gwosc.org/tutorials/\n",
        "\n",
        "# La funcion de whitening que utilizan escala el espectro de la señal por 1/sqrt(PSD) para blanquear el ruido sin modificar la fase de la señal.\n",
        "\n",
        "def whiten(strain, dt, psd_interp, phase_shift=0, time_shift=0):\n",
        "    \"\"\"Whitens strain data given the psd and sample rate, also applying a phase\n",
        "    shift and time shift.\n",
        "\n",
        "    Args:\n",
        "        strain (ndarray): strain data\n",
        "        interp_psd (interpolating function): function to take in freqs and output \n",
        "            the average power at that freq \n",
        "        dt (float): sample time interval of data\n",
        "        phase_shift (float, optional): phase shift to apply to whitened data\n",
        "        time_shift (float, optional): time shift to apply to whitened data (s)\n",
        "    \n",
        "    Returns:\n",
        "        ndarray: array of whitened strain data\n",
        "    \"\"\"\n",
        "    Nt = len(strain)\n",
        "    # take the fourier transform of the data\n",
        "    freqs = np.fft.rfftfreq(Nt, dt)\n",
        "\n",
        "    # whitening: transform to freq domain, divide by square root of psd, then\n",
        "    # transform back, taking care to get normalization right.\n",
        "    hf = np.fft.rfft(strain)\n",
        "    \n",
        "    # apply time and phase shift\n",
        "    hf = hf * np.exp(-1.j * 2 * np.pi * time_shift * freqs - 1.j * phase_shift)\n",
        "    white_hf = hf / np.sqrt(psd_interp(freqs))\n",
        "    white_ht = np.fft.irfft(white_hf, n=Nt)\n",
        "    return white_ht\n",
        "\n",
        "def bandpass(fl, fh, data):\n",
        "    b, a = sg.butter(4, [fl, fh], btype='bandpass', fs=fs)\n",
        "    normalization = np.sqrt((fh-fl)/(fs/2))\n",
        "    return sg.filtfilt(b, a, data) / normalization"
      ]
    },
    {
      "cell_type": "code",
      "execution_count": null,
      "metadata": {},
      "outputs": [],
      "source": [
        "\n",
        "\n",
        "dataH1 = strain_H1[indxt_around_H1]\n",
        "dataL1 = strain_L1[indxt_around_L1]\n",
        "\n",
        "L1_psd_interp = lambda x: np.interp(x, paL1freqs, Rxpa_estL1)\n",
        "H1_psd_interp = lambda x: np.interp(x, paH1freqs, Rxpa_estH1)\n",
        "\n",
        "whitened_dH1 = whiten(dataH1, 1/fs, H1_psd_interp)\n",
        "whitened_dL1 = whiten(dataL1, 1/fs, L1_psd_interp)\n",
        "white_testH1 = whiten(strain_H1_before_noise, 1/fs, H1_psd_interp)\n",
        "white_testL1 = whiten(strain_L1_before_noise, 1/fs, L1_psd_interp)\n",
        "\n",
        "filteredH1 = bandpass(35, 350, whitened_dH1)\n",
        "filteredL1 = bandpass(35, 350, whitened_dL1)\n"
      ]
    },
    {
      "cell_type": "markdown",
      "metadata": {},
      "source": [
        "En el siguiente grafico se ve una muestra de las mediciones pasadas por la funcion de blanqueo de espectro, y se puede ver un espectro comparativamente mas plano."
      ]
    },
    {
      "cell_type": "code",
      "execution_count": null,
      "metadata": {},
      "outputs": [],
      "source": [
        "fH1, pH1, _ = periodogram_averaging(white_testH1, 4096, 2, sg.windows.blackman)\n",
        "fL1, pL1, _ = periodogram_averaging(white_testL1, 4096, 2, sg.windows.blackman)\n",
        "plt.figure()\n",
        "plt.plot(fH1, pH1, label='Withened H1')\n",
        "plt.plot(fL1, pL1, label='Withened L1')\n",
        "plt.xscale('log')\n",
        "plt.yscale('log')\n",
        "plt.xlabel('Freq [Hz]')\n",
        "plt.ylabel('PSD')\n",
        "plt.xlim(10, fs/2)\n",
        "plt.legend()"
      ]
    },
    {
      "cell_type": "code",
      "execution_count": null,
      "metadata": {},
      "outputs": [],
      "source": [
        "plt.figure(figsize=(8, 10))\n",
        "plt.subplot(2, 1, 1)\n",
        "plt.plot(time_H1[indxt_around_H1], filteredH1)\n",
        "plt.title('H1')\n",
        "plt.subplot(2, 1, 2)\n",
        "plt.plot(time_L1[indxt_around_L1], filteredL1)\n",
        "plt.title('L1')\n"
      ]
    },
    {
      "cell_type": "code",
      "execution_count": null,
      "metadata": {},
      "outputs": [],
      "source": [
        "audio = filteredH1[int(0.5*fs):-int(0.5*fs)]\n",
        "audioobj = ipd.Audio(audio, rate=fs, normalize=True)\n",
        "audioobj"
      ]
    },
    {
      "cell_type": "code",
      "execution_count": null,
      "metadata": {},
      "outputs": [],
      "source": [
        "import soundfile\n",
        "soundfile.write('GW.wav', audio, fs) "
      ]
    },
    {
      "cell_type": "markdown",
      "metadata": {},
      "source": [
        "Espectrograma de la muestra de 4 segundos de H1 luego de pasarla por el blanqueo y el filtro pasabanda. Se puede ver claramente el lugar temporal donde ocurre el evento."
      ]
    },
    {
      "cell_type": "code",
      "execution_count": null,
      "metadata": {},
      "outputs": [],
      "source": [
        "import pywt\n",
        "\n",
        "data = filteredH1[int(0.5*fs):-int(0.5*fs)]\n",
        "widths = np.arange(1, 150) #Frecuency range\n",
        "cwt1, freqs = pywt.cwt(data, widths, 'morl')\n",
        "cwt2, freqs = pywt.cwt(data, widths, 'mexh')\n",
        "cwt = cwt1+cwt2\n",
        "plt.figure()\n",
        "plt.imshow(X=10*np.log10(abs(cwt)), aspect='auto', vmin = -10)\n",
        "plt.colorbar()\n",
        "plt.grid(False)"
      ]
    },
    {
      "cell_type": "markdown",
      "metadata": {},
      "source": [
        "Aqui se calcula la correlacion cruzada entre intervalos de distintos tiempos que contienen a la señal deseada, y con esto se puede calcular el lag entre cada evento."
      ]
    },
    {
      "cell_type": "code",
      "execution_count": null,
      "metadata": {},
      "outputs": [],
      "source": [
        "plt.figure()\n",
        "center_sample = 9750\n",
        "\n",
        "\n",
        "H1_1s = filteredH1[center_sample-int(0.5*fs): center_sample+int(0.5*fs)]\n",
        "H1_400ms = filteredH1[center_sample-int(0.2*fs): center_sample+int(0.2*fs)]\n",
        "H1_200ms = filteredH1[center_sample-int(0.1*fs): center_sample+int(0.1*fs)]\n",
        "\n",
        "L1_1s = filteredL1[center_sample-int(0.5*fs): center_sample+int(0.5*fs)]\n",
        "L1_400ms = filteredL1[center_sample-int(0.2*fs): center_sample+int(0.2*fs)]\n",
        "L1_200ms = filteredL1[center_sample-int(0.1*fs): center_sample+int(0.1*fs)]\n",
        "\n",
        "cross_corr_long = sg.correlate(filteredH1, filteredL1)/len(filteredH1)\n",
        "lags_long = sg.correlation_lags(len(filteredH1), len(filteredL1))\n",
        "cross_corr_1s = sg.correlate(H1_1s, L1_1s)/len(H1_1s)\n",
        "lags_1s = sg.correlation_lags(len(H1_1s), len(L1_1s))\n",
        "cross_corr_400ms = sg.correlate(H1_400ms, L1_400ms)/len(H1_400ms)\n",
        "lags_400ms = sg.correlation_lags(len(H1_400ms), len(L1_400ms))\n",
        "cross_corr_200ms = sg.correlate(H1_200ms, L1_200ms)/len(H1_200ms)\n",
        "lags_200ms = sg.correlation_lags(len(H1_200ms), len(L1_200ms))\n",
        "\n",
        "\n",
        "print(\"Tiempo de correlacion minima: \", lags_long[np.argmin(cross_corr_long)]/fs)\n",
        "print(\"Tiempo de correlacion minima: \", lags_1s[np.argmin(cross_corr_1s)]/fs)\n",
        "print(\"Tiempo de correlacion minima: \", lags_400ms[np.argmin(cross_corr_400ms)]/fs)\n",
        "print(\"Tiempo de correlacion minima: \", lags_200ms[np.argmin(cross_corr_200ms)]/fs)\n",
        "\n",
        "plt.plot(lags_long/fs, cross_corr_long)\n",
        "plt.plot(lags_1s/fs, cross_corr_1s)\n",
        "plt.plot(lags_400ms/fs, cross_corr_400ms)\n",
        "plt.plot(lags_200ms/fs, cross_corr_200ms)\n",
        "plt.xlim(0, 15e-3)\n",
        "plt.ylim(-2, 2)"
      ]
    },
    {
      "cell_type": "markdown",
      "metadata": {},
      "source": [
        "Dado que el lag se calculo en 7.32ms, y la distancia entre H y L es de approx 10ms*C, se puede calcular el angulo de incidencia:"
      ]
    },
    {
      "cell_type": "code",
      "execution_count": null,
      "metadata": {},
      "outputs": [],
      "source": [
        "L2H = 10            # tiempo entre nodos a la velocidad de la luz en ms\n",
        "lag = 7.32421875\n",
        "\n",
        "phi = np.rad2deg(np.arcsin(lag/L2H))\n",
        "\n",
        "print(f\"El angulo del cono de donde se puede proyectar la onda recibida es de: {phi:0.3}º\")"
      ]
    },
    {
      "cell_type": "markdown",
      "metadata": {},
      "source": [
        "# $\\textit{Estacionalidad}$\n",
        "\n",
        "fuentes: https://arch.readthedocs.io/en/latest/unitroot/unitroot_examples.html"
      ]
    },
    {
      "cell_type": "code",
      "execution_count": 10,
      "metadata": {},
      "outputs": [
        {
          "data": {
            "text/plain": [
              "53248"
            ]
          },
          "execution_count": 10,
          "metadata": {},
          "output_type": "execute_result"
        }
      ],
      "source": [
        "len(strain_L1_before_noise)"
      ]
    },
    {
      "cell_type": "code",
      "execution_count": 32,
      "metadata": {},
      "outputs": [
        {
          "name": "stdout",
          "output_type": "stream",
          "text": [
            "   Augmented Dickey-Fuller Results   \n",
            "=====================================\n",
            "Test Statistic                -23.167\n",
            "P-value                         0.000\n",
            "Lags                              106\n",
            "-------------------------------------\n",
            "\n",
            "Trend: Constant\n",
            "Critical Values: -3.43 (1%), -2.86 (5%), -2.57 (10%)\n",
            "Null Hypothesis: The process contains a unit root.\n",
            "Alternative Hypothesis: The process is weakly stationary.\n",
            "Dado que P-value = 0, podemos concluir que la señal L1 es estacionaria.\n",
            "\n",
            "//////////////////////////////////////\n",
            "\n",
            "   Augmented Dickey-Fuller Results   \n",
            "=====================================\n",
            "Test Statistic                -18.939\n",
            "P-value                         0.000\n",
            "Lags                              104\n",
            "-------------------------------------\n",
            "\n",
            "Trend: Constant\n",
            "Critical Values: -3.43 (1%), -2.86 (5%), -2.57 (10%)\n",
            "Null Hypothesis: The process contains a unit root.\n",
            "Alternative Hypothesis: The process is weakly stationary.\n",
            "Dado que P-value = 0, podemos concluir que la señal H1 es estacionaria.\n"
          ]
        }
      ],
      "source": [
        "from arch.unitroot import ADF\n",
        "\n",
        "''' \n",
        "Para el test, se tiene en cuenta que las hipotesis son:\n",
        "\n",
        "H0: La serie contiene raiz unitaria.\n",
        "H1: La serie es estacionaria.\n",
        "\n",
        "Si el p-valor esta por encima del critico, la hipotesis nula no puede ser rechazada, indicando que \n",
        "la serie no es estacionaria.\n",
        "'''\n",
        "\n",
        "norm1 = strain_L1_before_noise/strain_L1_before_noise.max()\n",
        "norm2 = strain_H1_before_noise/strain_H1_before_noise.max()\n",
        "max_lags_test=len(strain_L1_before_noise)//500\n",
        "\n",
        "adf = ADF(norm1, max_lags=max_lags_test)\n",
        "print(adf.summary().as_text())\n",
        "print(\"Dado que P-value = 0, podemos concluir que la señal L1 es estacionaria.\")\n",
        "print('\\n//////////////////////////////////////\\n')\n",
        "\n",
        "adf = ADF(norm2, max_lags=max_lags_test)\n",
        "print(adf.summary().as_text())\n",
        "print(\"Dado que P-value = 0, podemos concluir que la señal H1 es estacionaria.\")"
      ]
    },
    {
      "cell_type": "code",
      "execution_count": 31,
      "metadata": {},
      "outputs": [
        {
          "name": "stdout",
          "output_type": "stream",
          "text": [
            "     Phillips-Perron Test (Z-tau)    \n",
            "=====================================\n",
            "Test Statistic                -13.616\n",
            "P-value                         0.000\n",
            "Lags                               58\n",
            "-------------------------------------\n",
            "\n",
            "Trend: Constant\n",
            "Critical Values: -3.43 (1%), -2.86 (5%), -2.57 (10%)\n",
            "Null Hypothesis: The process contains a unit root.\n",
            "Alternative Hypothesis: The process is weakly stationary.\n",
            "\n",
            "//////////////////////////////////////\n",
            "\n",
            "     Phillips-Perron Test (Z-tau)    \n",
            "=====================================\n",
            "Test Statistic                -10.306\n",
            "P-value                         0.000\n",
            "Lags                               58\n",
            "-------------------------------------\n",
            "\n",
            "Trend: Constant\n",
            "Critical Values: -3.43 (1%), -2.86 (5%), -2.57 (10%)\n",
            "Null Hypothesis: The process contains a unit root.\n",
            "Alternative Hypothesis: The process is weakly stationary.\n"
          ]
        }
      ],
      "source": [
        "from arch.unitroot import PhillipsPerron\n",
        "\n",
        "pp = PhillipsPerron(norm1)\n",
        "print(pp.summary().as_text())\n",
        "print(\"Dado que P-value = 0, podemos concluir que la señal L1 es estacionaria.\")\n",
        "print('\\n//////////////////////////////////////\\n')\n",
        "\n",
        "pp = PhillipsPerron(norm2)\n",
        "print(pp.summary().as_text())\n",
        "print(\"Dado que P-value = 0, podemos concluir que la señal H1 es estacionaria.\")"
      ]
    },
    {
      "cell_type": "code",
      "execution_count": 41,
      "metadata": {},
      "outputs": [
        {
          "name": "stdout",
          "output_type": "stream",
          "text": [
            "    KPSS Stationarity Test Results   \n",
            "=====================================\n",
            "Test Statistic                  0.002\n",
            "P-value                         0.999\n",
            "Lags                              137\n",
            "-------------------------------------\n",
            "\n",
            "Trend: Constant\n",
            "Critical Values: 0.74 (1%), 0.46 (5%), 0.35 (10%)\n",
            "Null Hypothesis: The process is weakly stationary.\n",
            "Alternative Hypothesis: The process contains a unit root.\n",
            "    KPSS Stationarity Test Results   \n",
            "=====================================\n",
            "Test Statistic                  0.022\n",
            "P-value                         0.994\n",
            "Lags                              137\n",
            "-------------------------------------\n",
            "\n",
            "Trend: Constant\n",
            "Critical Values: 0.74 (1%), 0.46 (5%), 0.35 (10%)\n",
            "Null Hypothesis: The process is weakly stationary.\n",
            "Alternative Hypothesis: The process contains a unit root.\n",
            "Los resultados de los tests muestran que L1 y H1 son estacionarios.\n"
          ]
        }
      ],
      "source": [
        "from arch.unitroot import KPSS\n",
        "\n",
        "kpss1 = KPSS(norm1)\n",
        "print(kpss1.summary())\n",
        "\n",
        "kpss2 = KPSS(norm2)\n",
        "print(kpss2.summary())\n",
        "\n",
        "print(\"Los resultados de los tests muestran que L1 y H1 son estacionarios.\")"
      ]
    }
  ],
  "metadata": {
    "kernelspec": {
      "display_name": "Python 3",
      "language": "python",
      "name": "python3"
    },
    "language_info": {
      "codemirror_mode": {
        "name": "ipython",
        "version": 3
      },
      "file_extension": ".py",
      "mimetype": "text/x-python",
      "name": "python",
      "nbconvert_exporter": "python",
      "pygments_lexer": "ipython3",
      "version": "3.10.9"
    },
    "orig_nbformat": 4
  },
  "nbformat": 4,
  "nbformat_minor": 2
}
